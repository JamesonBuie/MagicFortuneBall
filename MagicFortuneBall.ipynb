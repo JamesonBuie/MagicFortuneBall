{
 "cells": [
  {
   "cell_type": "code",
   "execution_count": 1,
   "id": "2506c65f",
   "metadata": {},
   "outputs": [
    {
     "name": "stdout",
     "output_type": "stream",
     "text": [
      "{1: 'It is certain', 2: 'It is decidedly so', 3: 'Without a doubt', 4: 'Yes, definitely', 5: 'You may rely on it', 6: 'As I see it, yes', 7: 'Most likely', 8: 'Outlook good', 9: 'Yes', 10: 'Signs point to yes', 11: 'Better not tell you now', 12: \"Don't count on it\", 13: 'My reply is no', 14: 'My sources say no', 15: 'Outlook not so good', 16: 'Very doubtful'}\n"
     ]
    }
   ],
   "source": [
    "# Dictionary of answers\n",
    "answers={\n",
    "    1: 'It is certain',\n",
    "    2: 'It is decidedly so',\n",
    "    3: 'Without a doubt',\n",
    "    4: 'Yes, definitely',\n",
    "    5: 'You may rely on it',\n",
    "    6: 'As I see it, yes',\n",
    "    7: 'Most likely',\n",
    "    8: 'Outlook good',\n",
    "    9: 'Yes',\n",
    "    10: 'Signs point to yes',\n",
    "    11: 'Better not tell you now',\n",
    "    12: \"Don't count on it\",\n",
    "    13: 'My reply is no',\n",
    "    14: 'My sources say no',\n",
    "    15: 'Outlook not so good',\n",
    "    16: 'Very doubtful'\n",
    "}\n",
    "print(answers)\n"
   ]
  },
  {
   "cell_type": "code",
   "execution_count": 2,
   "id": "2641e30b",
   "metadata": {},
   "outputs": [],
   "source": [
    "# Function to run the program\n",
    "import random\n",
    "import time\n",
    "def FortuneBall():\n",
    "    prompt=input(\"What is your question? \")\n",
    "    almost=['Almost...','Got...','It!!!']\n",
    "    for i in almost:\n",
    "        print(i)\n",
    "        time.sleep(0.75)\n",
    "    print(f\"The answer is: {answers[random.randrange(1,len(answers))].lower()}\")\n",
    "    Again()"
   ]
  },
  {
   "cell_type": "code",
   "execution_count": 3,
   "id": "2121cd4b",
   "metadata": {},
   "outputs": [],
   "source": [
    "# Function to ask another quesiton\n",
    "def Again():\n",
    "    reply=prompt=input(\"Ask another question (Enter 0 to quit): \")\n",
    "    if reply==\"0\":\n",
    "        print(\"See you later, I hope you found the answers you were hoping for.\")\n",
    "    else:\n",
    "        print(\"Thinking...\")\n",
    "        time.sleep(2)\n",
    "        print(f\"The asnwer is: {answers[random.randrange(1,len(answers))].lower()}\")\n",
    "        Again()\n",
    "            \n",
    "            \n",
    "   "
   ]
  },
  {
   "cell_type": "code",
   "execution_count": null,
   "id": "56b49821",
   "metadata": {},
   "outputs": [],
   "source": [
    "# Running the program\n",
    "FortuneBall()"
   ]
  },
  {
   "cell_type": "code",
   "execution_count": null,
   "id": "a548a0c2",
   "metadata": {},
   "outputs": [],
   "source": []
  }
 ],
 "metadata": {
  "kernelspec": {
   "display_name": "Python 3 (ipykernel)",
   "language": "python",
   "name": "python3"
  },
  "language_info": {
   "codemirror_mode": {
    "name": "ipython",
    "version": 3
   },
   "file_extension": ".py",
   "mimetype": "text/x-python",
   "name": "python",
   "nbconvert_exporter": "python",
   "pygments_lexer": "ipython3",
   "version": "3.9.13"
  }
 },
 "nbformat": 4,
 "nbformat_minor": 5
}
